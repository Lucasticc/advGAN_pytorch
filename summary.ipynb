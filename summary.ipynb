{
 "cells": [
  {
   "attachments": {},
   "cell_type": "markdown",
   "metadata": {},
   "source": [
    "AdvGAN的网络由三部分组成  生成器G 判别器D 和目标网络f\n",
    "\n",
    "这个目标网络f 现在我所理解的就是 对图片进行辨别的原神经网络 也就是目标网络f 这个目标网络的定义在model中进行定义 使用的还是训练好的网络pth\n",
    "\n",
    "训练的时候 像生成器G 输入真实图像x（在代码中图片也是赋值给x） \n",
    "\n",
    "在main函数中 使用dataloader函数 用advtrain 中直接传输 data（这个data包含 face_tensor, label）\n",
    "也就是 图像本身和对应的label 在初始化dataloader函数的时候 重写getitem函数的时候就直接把数据 转为tensor格式 --这个重写dataloader 返回封装的数据一般是由数据本身和对应的label\n",
    "\n",
    "生成器的定义\n",
    "\n",
    "\n"
   ]
  },
  {
   "attachments": {},
   "cell_type": "markdown",
   "metadata": {},
   "source": [
    "Discriminator输入生成的或真实的样本，其需要判断输入的样本是真还是假，同时把对应的gradient（梯度）回传给generator，\n",
    "用来更新generator的参数，然后使得generator生成的数据越来越逼近真实数据。"
   ]
  }
 ],
 "metadata": {
  "language_info": {
   "name": "python"
  },
  "orig_nbformat": 4
 },
 "nbformat": 4,
 "nbformat_minor": 2
}
